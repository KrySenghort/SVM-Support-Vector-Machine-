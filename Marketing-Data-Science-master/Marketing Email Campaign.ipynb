{
 "cells": [
  {
   "cell_type": "markdown",
   "metadata": {},
   "source": [
    "https://datamasked.com/company/wp-content/uploads/email_sample.html\n",
    "# Goal\n",
    "- improve email open and click through rates  \n",
    "\n",
    "Optimizing marketing campaigns is one of the most common data science tasks.\n",
    "Among the many possible marketing tools, one of the most efficient is using emails.\n",
    "Emails are great because they are free and can be easily personalized. Email optimization\n",
    "involves personalizing the text and/or the subject, who should receive it, when it should be\n",
    "sent, etc. Machine Learning excels at this.\n",
    "\n",
    "# Challenge Description\n",
    "The marketing team of an e-commerce site has launched an email campaign. This site has email\n",
    "addresses of all the users who created an account in the past.\n",
    "They have chosen a random sample of users and emailed them. The email let the user know\n",
    "about a new feature implemented on the site. From the marketing team perspective, a success\n",
    "is if the user clicks on the link inside of the email. This link takes the user to the company site.\n",
    "You are in charge of figuring out how the email campaign performed and were asked the\n",
    "following questions:\n",
    "- What percentage of users opened the email and what percentage clicked on the link\n",
    "within the email?\n",
    "- The VP of marketing thinks that it is stupid to send emails to a random subset and in a\n",
    "random way. Based on all the information you have about the emails that were sent, can\n",
    "you build a model to optimize future email campaigns to maximize the probability of\n",
    "users clicking on the link inside the email?\n",
    "- By how much do you think your model would improve click through rate (defined as # of\n",
    "users who click on the link / total users who received the email). How would you test\n",
    "that?\n",
    "- Did you find any interesting pattern on how the email campaign performed for different\n",
    "segments of users? Explain.\n",
    "\n",
    "# Data\n",
    "The 3 tables are:  \n",
    "Datasets/email_table.csv  \n",
    "\"email_table\" - info about each email that was sent  \n",
    "Columns:\n",
    "- email_id : the Id of the email that was sent. It is unique by email\n",
    "- email_text : there are two versions of the email: one has \"long text\" (i.e. has 4\n",
    "paragraphs) and one has \"short text\" (just 2 paragraphs)\n",
    "- email_version : some emails were \"personalized\" (i.e. they had the name of the user\n",
    "receiving the email in the incipit, such as \"Hi John,\"), while some emails were\n",
    "\"generic\" (the incipit was just \"Hi,\").\n",
    "- hour : the user local time when the email was sent.\n",
    "- weekday : the day when the email was sent.\n",
    "- user_country : the country where the user receiving the email was based. It comes from\n",
    "the user ip address when she created the account.\n",
    "- user_past_purchases : how many items in the past were bought by the user receiving\n",
    "the email\n",
    "\n",
    "Datasets/email_opened_table.csv  \n",
    "\"email_opened_table\" - the id of the emails that were opened at least once.  \n",
    "Columns:\n",
    "- email_id : the id of the emails that were opened, i.e. the user clicked on the email and,\n",
    "supposedly, read it.\n",
    "\n",
    "Datasets/link_clicked_table.csv  \n",
    "\"link_clicked_table\" - the id of the emails whose link inside was clicked\n",
    "at least once. This user was then brought to the site.  \n",
    "Columns:\n",
    "- email_id : if the user clicked on the link within the email, then the id of the email shows\n",
    "up on this table.\n",
    "\n",
    "\n",
    "\n",
    "# Example\n",
    "Let's check one email that was sent  \n",
    "head(email_table, 1)\n",
    "Column Name Value Description\n",
    "> - email_id 85120 The Id of the email\n",
    "- email_text short_email That was a short email\n",
    "- email_version personalized It was personalized with the user name in the text\n",
    "- hour 2 It was sent at 2AM user local time\n",
    "- weekday Sunday It was sent on a Sunday\n",
    "- user_country US The user is based in the US\n",
    "- user_past_purchases 5 The user in the past has bought 5 items from the\n",
    "site  \n",
    "Let's check if that email was opened  \n",
    "subset(email_opened_table, email_id == 85120) >  \n",
    "<0 rows> (or 0-length row.names) # Nope. The user never opened it.  \n",
    "We would obviously expect that the user never clicked on the link, since you\n",
    "need to open the email in the first place to be able to click on the link\n",
    "inside. Let's check:  \n",
    "subset( link_clicked_table, email_id == 85120)\n",
    "<0 rows> (or 0-length row.names) # The user obviously never clicked on the link."
   ]
  },
  {
   "cell_type": "raw",
   "metadata": {},
   "source": [
    "Datasets/email_opened_table.csv\n",
    "Datasets/email_table.csv\n",
    "Datasets/link_clicked_table.csv"
   ]
  },
  {
   "cell_type": "code",
   "execution_count": 25,
   "metadata": {},
   "outputs": [],
   "source": [
    "import pandas as pd\n",
    "from collections import Counter"
   ]
  },
  {
   "cell_type": "code",
   "execution_count": 23,
   "metadata": {},
   "outputs": [
    {
     "data": {
      "text/plain": [
       "10345"
      ]
     },
     "execution_count": 23,
     "metadata": {},
     "output_type": "execute_result"
    }
   ],
   "source": [
    "email_opened_df = pd.read_csv('Datasets/email_opened_table.csv')\n",
    "df = pd.read_csv('Datasets/email_table.csv')\n",
    "link_clicked_df = pd.read_csv('Datasets/link_clicked_table.csv')\n",
    "len(email_opened_df)"
   ]
  },
  {
   "cell_type": "code",
   "execution_count": 13,
   "metadata": {},
   "outputs": [
    {
     "data": {
      "text/html": [
       "<div>\n",
       "<style scoped>\n",
       "    .dataframe tbody tr th:only-of-type {\n",
       "        vertical-align: middle;\n",
       "    }\n",
       "\n",
       "    .dataframe tbody tr th {\n",
       "        vertical-align: top;\n",
       "    }\n",
       "\n",
       "    .dataframe thead th {\n",
       "        text-align: right;\n",
       "    }\n",
       "</style>\n",
       "<table border=\"1\" class=\"dataframe\">\n",
       "  <thead>\n",
       "    <tr style=\"text-align: right;\">\n",
       "      <th></th>\n",
       "      <th>email_id</th>\n",
       "      <th>email_text</th>\n",
       "      <th>email_version</th>\n",
       "      <th>hour</th>\n",
       "      <th>weekday</th>\n",
       "      <th>user_country</th>\n",
       "      <th>user_past_purchases</th>\n",
       "    </tr>\n",
       "  </thead>\n",
       "  <tbody>\n",
       "    <tr>\n",
       "      <th>99998</th>\n",
       "      <td>72497</td>\n",
       "      <td>short_email</td>\n",
       "      <td>generic</td>\n",
       "      <td>10</td>\n",
       "      <td>Monday</td>\n",
       "      <td>UK</td>\n",
       "      <td>0</td>\n",
       "    </tr>\n",
       "    <tr>\n",
       "      <th>99999</th>\n",
       "      <td>348333</td>\n",
       "      <td>long_email</td>\n",
       "      <td>personalized</td>\n",
       "      <td>8</td>\n",
       "      <td>Sunday</td>\n",
       "      <td>UK</td>\n",
       "      <td>1</td>\n",
       "    </tr>\n",
       "  </tbody>\n",
       "</table>\n",
       "</div>"
      ],
      "text/plain": [
       "       email_id   email_text email_version  hour weekday user_country  \\\n",
       "99998     72497  short_email       generic    10  Monday           UK   \n",
       "99999    348333   long_email  personalized     8  Sunday           UK   \n",
       "\n",
       "       user_past_purchases  \n",
       "99998                    0  \n",
       "99999                    1  "
      ]
     },
     "execution_count": 13,
     "metadata": {},
     "output_type": "execute_result"
    }
   ],
   "source": [
    "email_df.tail(2)"
   ]
  },
  {
   "cell_type": "code",
   "execution_count": 20,
   "metadata": {
    "scrolled": true
   },
   "outputs": [
    {
     "data": {
      "text/plain": [
       "2119"
      ]
     },
     "execution_count": 20,
     "metadata": {},
     "output_type": "execute_result"
    }
   ],
   "source": [
    "len(link_clicked_df)"
   ]
  },
  {
   "cell_type": "code",
   "execution_count": 26,
   "metadata": {},
   "outputs": [
    {
     "data": {
      "text/plain": [
       "Counter({'personalized': 49791, 'generic': 50209})"
      ]
     },
     "execution_count": 26,
     "metadata": {},
     "output_type": "execute_result"
    }
   ],
   "source": [
    "Counter(df['email_version'])"
   ]
  },
  {
   "cell_type": "code",
   "execution_count": null,
   "metadata": {},
   "outputs": [],
   "source": []
  }
 ],
 "metadata": {
  "kernelspec": {
   "display_name": "Python 3",
   "language": "python",
   "name": "python3"
  },
  "language_info": {
   "codemirror_mode": {
    "name": "ipython",
    "version": 3
   },
   "file_extension": ".py",
   "mimetype": "text/x-python",
   "name": "python",
   "nbconvert_exporter": "python",
   "pygments_lexer": "ipython3",
   "version": "3.6.6"
  }
 },
 "nbformat": 4,
 "nbformat_minor": 2
}
